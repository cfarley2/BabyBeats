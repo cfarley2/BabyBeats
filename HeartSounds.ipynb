{
 "cells": [
  {
   "cell_type": "code",
   "execution_count": 8,
   "metadata": {},
   "outputs": [],
   "source": [
    "import wave\n",
    "import struct\n",
    "from pylab import *\n",
    "from os import listdir\n",
    "from os.path import isfile, join\n",
    "\n",
    "def plot_waves(file):\n",
    "    FNAME = 'set_a/' + file\n",
    "    f = wave.open(FNAME)\n",
    "    frames = f.readframes(-1)\n",
    "    samples = struct.unpack('h'*f.getnframes(), frames)\n",
    "    framerate = f.getframerate()\n",
    "    t = [float(i)/framerate for i in range(len(samples))]\n",
    "    plot(t, samples)\n",
    "\n",
    "\n",
    "mypath = 'set_a/'\n",
    "onlyfiles = [f for f in listdir(mypath) if isfile(join(mypath, f))]\n",
    "%matplotlib inline\n",
    "for i in range(0,10):\n",
    "    fig = figure()\n",
    "    plot_waves(onlyfiles[i])\n",
    "\n",
    "%matplotlib inline"
   ]
  },
  {
   "cell_type": "code",
   "execution_count": null,
   "metadata": {
    "collapsed": true
   },
   "outputs": [],
   "source": []
  }
 ],
 "metadata": {
  "kernelspec": {
   "display_name": "Python 3",
   "language": "python",
   "name": "python3"
  },
  "language_info": {
   "codemirror_mode": {
    "name": "ipython",
    "version": 3
   },
   "file_extension": ".py",
   "mimetype": "text/x-python",
   "name": "python",
   "nbconvert_exporter": "python",
   "pygments_lexer": "ipython3",
   "version": "3.6.1"
  }
 },
 "nbformat": 4,
 "nbformat_minor": 2
}
